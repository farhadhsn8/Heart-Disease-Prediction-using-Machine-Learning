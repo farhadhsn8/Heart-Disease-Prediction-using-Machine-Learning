{
  "nbformat": 4,
  "nbformat_minor": 0,
  "metadata": {
    "colab": {
      "name": "Heart Disease Prediction.ipynb",
      "provenance": [],
      "collapsed_sections": [],
      "authorship_tag": "ABX9TyN/b+XLUqCufdN+4ildy/or",
      "include_colab_link": true
    },
    "kernelspec": {
      "name": "python3",
      "display_name": "Python 3"
    },
    "language_info": {
      "name": "python"
    }
  },
  "cells": [
    {
      "cell_type": "markdown",
      "metadata": {
        "id": "view-in-github",
        "colab_type": "text"
      },
      "source": [
        "<a href=\"https://colab.research.google.com/github/farhadhsn8/Heart-Disease-Prediction-using-Machine-Learning/blob/master/Heart_Disease_Prediction.ipynb\" target=\"_parent\"><img src=\"https://colab.research.google.com/assets/colab-badge.svg\" alt=\"Open In Colab\"/></a>"
      ]
    },
    {
      "cell_type": "code",
      "execution_count": 25,
      "metadata": {
        "colab": {
          "base_uri": "https://localhost:8080/"
        },
        "id": "Pk4iJI3GUOY6",
        "outputId": "5c5edbaf-d252-43b9-f353-3046228ba354"
      },
      "outputs": [
        {
          "output_type": "execute_result",
          "data": {
            "text/plain": [
              "(304, 14)"
            ]
          },
          "metadata": {},
          "execution_count": 25
        }
      ],
      "source": [
        "from numpy import genfromtxt\n",
        "dataset = genfromtxt('heart.csv', delimiter=',')\n",
        "\n",
        "dataset.shape"
      ]
    },
    {
      "cell_type": "code",
      "source": [
        "# for i in range(data.shape[0]):\n",
        "#   print(data[i])"
      ],
      "metadata": {
        "id": "oh8hF1tDUZvC"
      },
      "execution_count": 26,
      "outputs": []
    },
    {
      "cell_type": "code",
      "source": [
        "#---------------shuffle---------------------\n",
        "from sklearn.utils import shuffle\n",
        "dataset=shuffle(dataset[1:])\n",
        "dataset.shape\n",
        "\n",
        "#-------------test & train ---------------\n",
        "train=dataset[0:250,:]    \n",
        "test=dataset[250:,:]  \n",
        "test.shape                #(53, 14)\n",
        "train.shape              # (250, 14)"
      ],
      "metadata": {
        "colab": {
          "base_uri": "https://localhost:8080/"
        },
        "id": "A9L_n0rEX3rl",
        "outputId": "bbbd75ac-e8fb-47ee-bc58-c101efd1d04e"
      },
      "execution_count": 27,
      "outputs": [
        {
          "output_type": "execute_result",
          "data": {
            "text/plain": [
              "(250, 14)"
            ]
          },
          "metadata": {},
          "execution_count": 27
        }
      ]
    },
    {
      "cell_type": "code",
      "source": [
        " ! git add . "
      ],
      "metadata": {
        "id": "hwQN115Cf37p"
      },
      "execution_count": 28,
      "outputs": []
    },
    {
      "cell_type": "code",
      "source": [
        "# !git init\n",
        "# git add README.md\n",
        "\n",
        "# !git commit -m \"first commit\"\n",
        "# !git branch -M master\n",
        "# !git remote add origin git@github.com:farhadhsn8/Heart-Disease-Prediction-using-Machine-Learning.git\n",
        "!git push -u origin master"
      ],
      "metadata": {
        "colab": {
          "base_uri": "https://localhost:8080/"
        },
        "id": "0S9zU2xebb1E",
        "outputId": "7738c4a7-6816-4394-cfdc-060804fb43d7"
      },
      "execution_count": 35,
      "outputs": [
        {
          "output_type": "stream",
          "name": "stdout",
          "text": [
            "Host key verification failed.\r\n",
            "fatal: Could not read from remote repository.\n",
            "\n",
            "Please make sure you have the correct access rights\n",
            "and the repository exists.\n"
          ]
        }
      ]
    },
    {
      "cell_type": "code",
      "source": [
        ""
      ],
      "metadata": {
        "id": "layEbPQWoE8t"
      },
      "execution_count": null,
      "outputs": []
    }
  ]
}