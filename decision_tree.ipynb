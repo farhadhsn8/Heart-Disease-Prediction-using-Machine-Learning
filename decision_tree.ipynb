{
  "nbformat": 4,
  "nbformat_minor": 0,
  "metadata": {
    "colab": {
      "name": "decision_tree.ipynb",
      "provenance": [],
      "collapsed_sections": [],
      "authorship_tag": "ABX9TyNU4/FvNf6XJIGtxyKu1faX",
      "include_colab_link": true
    },
    "kernelspec": {
      "name": "python3",
      "display_name": "Python 3"
    },
    "language_info": {
      "name": "python"
    }
  },
  "cells": [
    {
      "cell_type": "markdown",
      "metadata": {
        "id": "view-in-github",
        "colab_type": "text"
      },
      "source": [
        "<a href=\"https://colab.research.google.com/github/farhadhsn8/Heart-Disease-Prediction-using-Machine-Learning/blob/master/decision_tree.ipynb\" target=\"_parent\"><img src=\"https://colab.research.google.com/assets/colab-badge.svg\" alt=\"Open In Colab\"/></a>"
      ]
    },
    {
      "cell_type": "markdown",
      "source": [
        "# decision tree\n",
        "\n",
        "\n",
        "\n"
      ],
      "metadata": {
        "id": "SxIycgpbSjwL"
      }
    },
    {
      "cell_type": "code",
      "execution_count": 25,
      "metadata": {
        "colab": {
          "base_uri": "https://localhost:8080/"
        },
        "id": "Pk4iJI3GUOY6",
        "outputId": "78bd7345-c142-434d-90b8-b5a091b33155"
      },
      "outputs": [
        {
          "output_type": "execute_result",
          "data": {
            "text/plain": [
              "(303, 14)"
            ]
          },
          "metadata": {},
          "execution_count": 25
        }
      ],
      "source": [
        "from numpy import genfromtxt\n",
        "from sklearn.metrics import confusion_matrix\n",
        "import matplotlib.pyplot as plt\n",
        "import seaborn as sns\n",
        "import pandas as pd\n",
        "import numpy as np\n",
        "from sklearn.model_selection import KFold\n",
        "dataset = genfromtxt('heart.csv', delimiter=',')\n",
        "dataset = dataset[1:]\n",
        "dataset.shape"
      ]
    },
    {
      "cell_type": "code",
      "source": [
        "# ---------K_FOLD CROSS VALIDATION --------------------\n",
        "from sklearn import tree\n",
        "X = dataset[:,0:-1]\n",
        "Y = dataset[:,-1]\n",
        "\n",
        "kf = KFold(n_splits=10 , random_state=None, shuffle=True) # ====> K = 10\n",
        "kf.get_n_splits(X)\n",
        "acc=[]\n",
        "\n",
        "\n",
        "for train_index, test_index in kf.split(X):\n",
        "    clf = tree.DecisionTreeClassifier()\n",
        "    clf = clf.fit(X[train_index], Y[train_index])\n",
        "    y_pred = clf.predict( X[test_index])\n",
        "    cm = confusion_matrix(Y[test_index], y_pred)\n",
        "    true = np.diag(cm)\n",
        "    accuricy = np.sum(true)/np.sum(cm)\n",
        "    acc.append(accuricy)\n",
        "\n",
        "print('K_FOLD CROSS VALIDATION ACC IS : ',str( sum(acc) / len(acc) * 100 )+' % ' , '\\n\\n')"
      ],
      "metadata": {
        "colab": {
          "base_uri": "https://localhost:8080/"
        },
        "id": "RuFV_AMAto6i",
        "outputId": "2748bdaa-30d5-476b-9f63-b7ae0a4903cf"
      },
      "execution_count": 26,
      "outputs": [
        {
          "output_type": "stream",
          "name": "stdout",
          "text": [
            "K_FOLD CROSS VALIDATION ACC IS :  78.59139784946237 %  \n",
            "\n",
            "\n"
          ]
        }
      ]
    },
    {
      "cell_type": "code",
      "source": [
        "#---------------shuffle---------------------\n",
        "from sklearn.utils import shuffle\n",
        "dataset=shuffle(dataset)\n",
        "dataset.shape\n",
        "\n",
        "#-------------test & train ---------------\n",
        "train=dataset[0:280,:]    \n",
        "test=dataset[280:,:]  \n",
        "test.shape                #(23, 14)\n",
        "train.shape              # (280, 14)"
      ],
      "metadata": {
        "colab": {
          "base_uri": "https://localhost:8080/"
        },
        "id": "A9L_n0rEX3rl",
        "outputId": "8b35ee10-9f34-4c11-a818-53c1236bbc8e"
      },
      "execution_count": 27,
      "outputs": [
        {
          "output_type": "execute_result",
          "data": {
            "text/plain": [
              "(280, 14)"
            ]
          },
          "metadata": {},
          "execution_count": 27
        }
      ]
    },
    {
      "cell_type": "code",
      "source": [
        "from sklearn import tree\n",
        "X = train[:,0:-1]\n",
        "Y = train[:,-1]\n",
        "clf = tree.DecisionTreeClassifier()\n",
        "clf = clf.fit(X, Y)"
      ],
      "metadata": {
        "id": "layEbPQWoE8t"
      },
      "execution_count": 28,
      "outputs": []
    },
    {
      "cell_type": "code",
      "source": [
        "def computeAccuricy(y_true, y_pred):\n",
        "  cm = confusion_matrix(y_true, y_pred)\n",
        "\n",
        "\n",
        "  df_cm = pd.DataFrame(cm,['not disease','disease'],['not disease','disease'])\n",
        "  plt.figure(figsize = (10,8))\n",
        "  sns.heatmap(df_cm, annot=True)\n",
        "\n",
        "\n",
        "  true = np.diag(cm)\n",
        "  accuricy = np.sum(true)/np.sum(cm)\n",
        "  print(str(accuricy * 100 )+' % ' , '\\n\\n')"
      ],
      "metadata": {
        "id": "auuD1LVgKnHF"
      },
      "execution_count": 29,
      "outputs": []
    },
    {
      "cell_type": "code",
      "source": [
        "y_pred_train = clf.predict(train[:, 0:-1])\n",
        "y_true_train = train[:,-1]\n",
        "\n",
        "computeAccuricy( y_true_train , y_pred_train  )\n"
      ],
      "metadata": {
        "colab": {
          "base_uri": "https://localhost:8080/",
          "height": 535
        },
        "id": "f0esSjJYM8wF",
        "outputId": "ae750bbf-eb92-40c5-ca75-c0a5306b69e6"
      },
      "execution_count": 30,
      "outputs": [
        {
          "output_type": "stream",
          "name": "stdout",
          "text": [
            "100.0 %  \n",
            "\n",
            "\n"
          ]
        },
        {
          "output_type": "display_data",
          "data": {
            "image/png": "[encoded data removed]",
            "text/plain": [
              "<Figure size 720x576 with 2 Axes>"
            ]
          },
          "metadata": {
            "needs_background": "light"
          }
        }
      ]
    },
    {
      "cell_type": "code",
      "source": [
        "y_pred_test = clf.predict(test[:, 0:-1])\n",
        "y_true_test = test[:,-1]\n",
        "\n",
        "computeAccuricy(y_true_test , y_pred_test )"
      ],
      "metadata": {
        "colab": {
          "base_uri": "https://localhost:8080/",
          "height": 535
        },
        "id": "tuoAdW4VN1UL",
        "outputId": "67b80179-0247-4b4c-e40a-a081fc2b064e"
      },
      "execution_count": 31,
      "outputs": [
        {
          "output_type": "stream",
          "name": "stdout",
          "text": [
            "73.91304347826086 %  \n",
            "\n",
            "\n"
          ]
        },
        {
          "output_type": "display_data",
          "data": {
            "image/png": "[encoded data removed]",
            "text/plain": [
              "<Figure size 720x576 with 2 Axes>"
            ]
          },
          "metadata": {
            "needs_background": "light"
          }
        }
      ]
    },
    {
      "cell_type": "code",
      "source": [
        ""
      ],
      "metadata": {
        "id": "zXfAzEbuo-jl"
      },
      "execution_count": null,
      "outputs": []
    }
  ]
}