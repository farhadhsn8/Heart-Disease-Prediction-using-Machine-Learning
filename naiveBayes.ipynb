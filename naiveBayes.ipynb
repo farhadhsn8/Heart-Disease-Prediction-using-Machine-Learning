{
  "nbformat": 4,
  "nbformat_minor": 0,
  "metadata": {
    "colab": {
      "name": "naiveBayes.ipynb",
      "provenance": [],
      "authorship_tag": "ABX9TyNxeFgBEm5t1wSX/ehdXCFZ",
      "include_colab_link": true
    },
    "kernelspec": {
      "name": "python3",
      "display_name": "Python 3"
    },
    "language_info": {
      "name": "python"
    }
  },
  "cells": [
    {
      "cell_type": "markdown",
      "metadata": {
        "id": "view-in-github",
        "colab_type": "text"
      },
      "source": [
        "<a href=\"https://colab.research.google.com/github/farhadhsn8/Heart-Disease-Prediction-using-Machine-Learning/blob/master/naiveBayes.ipynb\" target=\"_parent\"><img src=\"https://colab.research.google.com/assets/colab-badge.svg\" alt=\"Open In Colab\"/></a>"
      ]
    },
    {
      "cell_type": "markdown",
      "source": [
        "#Naive Bayes "
      ],
      "metadata": {
        "id": "uPnzw9vkkv0L"
      }
    },
    {
      "cell_type": "code",
      "execution_count": null,
      "metadata": {
        "colab": {
          "base_uri": "https://localhost:8080/"
        },
        "id": "oPKc1OSbkpsK",
        "outputId": "47bc6fb0-053f-4118-febd-fdc943969fcd"
      },
      "outputs": [
        {
          "output_type": "execute_result",
          "data": {
            "text/plain": [
              "(303, 14)"
            ]
          },
          "metadata": {},
          "execution_count": 1
        }
      ],
      "source": [
        "from numpy import genfromtxt\n",
        "from sklearn.metrics import confusion_matrix\n",
        "import matplotlib.pyplot as plt\n",
        "import seaborn as sns\n",
        "import pandas as pd\n",
        "import numpy as np\n",
        "from sklearn.model_selection import KFold\n",
        "dataset = genfromtxt('heart.csv', delimiter=',')\n",
        "dataset = dataset[1:]\n",
        "dataset.shape"
      ]
    },
    {
      "cell_type": "code",
      "source": [
        "# ---------K_FOLD CROSS VALIDATION --------------------\n",
        "from sklearn.naive_bayes import GaussianNB\n",
        "X = dataset[:,0:-1]\n",
        "Y = dataset[:,-1]\n",
        "\n",
        "kf = KFold(n_splits=10 , random_state=None, shuffle=True) # ====> K = 10\n",
        "kf.get_n_splits(X)\n",
        "acc=[]\n",
        "\n",
        "\n",
        "for train_index, test_index in kf.split(X):\n",
        "    clf = GaussianNB()\n",
        "    clf = clf.fit(X[train_index], Y[train_index])     \n",
        "    y_pred = clf.predict( X[test_index])\n",
        "    cm = confusion_matrix(Y[test_index], y_pred)\n",
        "    true = np.diag(cm)\n",
        "    accuricy = np.sum(true)/np.sum(cm)\n",
        "    acc.append(accuricy)\n",
        "\n",
        "print('K_FOLD CROSS VALIDATION ACC IS : ',str( sum(acc) / len(acc) * 100 )+' % ' , '\\n\\n')"
      ],
      "metadata": {
        "colab": {
          "base_uri": "https://localhost:8080/"
        },
        "id": "FW1KRbRZlDyg",
        "outputId": "64ea67eb-7a53-4473-9c47-57e08ba2fbd5"
      },
      "execution_count": null,
      "outputs": [
        {
          "output_type": "stream",
          "name": "stdout",
          "text": [
            "K_FOLD CROSS VALIDATION ACC IS :  81.16129032258065 %  \n",
            "\n",
            "\n"
          ]
        }
      ]
    },
    {
      "cell_type": "code",
      "source": [
        "def computeAccuricy(y_true, y_pred):\n",
        "  cm = confusion_matrix(y_true, y_pred)\n",
        "\n",
        "\n",
        "  df_cm = pd.DataFrame(cm,['not disease','disease'],['not disease','disease'])\n",
        "  plt.figure(figsize = (10,8))\n",
        "  sns.heatmap(df_cm, annot=True ,  cmap='Greens')\n",
        "\n",
        "\n",
        "  true = np.diag(cm)\n",
        "  accuricy = np.sum(true)/np.sum(cm)\n",
        "  precision = cm[ 1 , 1 ]/np.sum(cm[1])\n",
        "  recall = cm[ 1 , 1 ]/np.sum(cm[: , 1])\n",
        "  measure = (2 * recall * precision) / (recall + precision)\n",
        "  print('accuricy : ',str(accuricy * 100 )+' % ' , '\\n\\n')\n",
        "  print('precision : ',str(precision * 100 )+' % ' , '\\n\\n')\n",
        "  print('recall : ',str(recall * 100 )+' % ' , '\\n\\n')\n",
        "  print('F-measure : '  ,str(measure * 100 )+' % ' , '\\n\\n')"
      ],
      "metadata": {
        "id": "pKcKVxx6lHoG"
      },
      "execution_count": null,
      "outputs": []
    },
    {
      "cell_type": "code",
      "source": [
        "#---------------shuffle---------------------\n",
        "from sklearn.utils import shuffle\n",
        "dataset=shuffle(dataset)\n",
        "dataset.shape\n",
        "\n",
        "#-------------test & train ---------------\n",
        "train=dataset[0:280,:]    \n",
        "test=dataset[280:,:]  \n",
        "test.shape                #(23, 14)\n",
        "train.shape              # (280, 14)"
      ],
      "metadata": {
        "colab": {
          "base_uri": "https://localhost:8080/"
        },
        "id": "2j3FqyAxleGQ",
        "outputId": "59287f49-90eb-4cf1-ae70-389a1d311b96"
      },
      "execution_count": null,
      "outputs": [
        {
          "output_type": "execute_result",
          "data": {
            "text/plain": [
              "(280, 14)"
            ]
          },
          "metadata": {},
          "execution_count": 4
        }
      ]
    },
    {
      "cell_type": "code",
      "source": [
        "X = train[:,0:-1]\n",
        "Y = train[:,-1]\n",
        "clf = GaussianNB()\n",
        "clf = clf.fit(X , Y)"
      ],
      "metadata": {
        "id": "C2ogAUXOljpG"
      },
      "execution_count": null,
      "outputs": []
    },
    {
      "cell_type": "code",
      "source": [
        "y_pred_train = clf.predict(train[:, 0:-1])\n",
        "y_true_train = train[:,-1]\n",
        "\n",
        "computeAccuricy( y_true_train , y_pred_train  )"
      ],
      "metadata": {
        "colab": {
          "base_uri": "https://localhost:8080/",
          "height": 691
        },
        "id": "RFVX4GJrlka1",
        "outputId": "fbd6880b-f903-4731-d669-5a8b37e34bee"
      },
      "execution_count": null,
      "outputs": [
        {
          "output_type": "stream",
          "name": "stdout",
          "text": [
            "accuricy :  84.64285714285714 %  \n",
            "\n",
            "\n",
            "precision :  88.81578947368422 %  \n",
            "\n",
            "\n",
            "recall :  83.85093167701864 %  \n",
            "\n",
            "\n",
            "F-measure :  86.26198083067094 %  \n",
            "\n",
            "\n"
          ]
        },
        {
          "output_type": "display_data",
          "data": {
            "image/png": "[encoded data removed]",
            "text/plain": [
              "<Figure size 720x576 with 2 Axes>"
            ]
          },
          "metadata": {
            "needs_background": "light"
          }
        }
      ]
    },
    {
      "cell_type": "code",
      "source": [
        "y_pred_test = clf.predict(test[:, 0:-1])\n",
        "y_true_test = test[:,-1]\n",
        "\n",
        "computeAccuricy(y_true_test , y_pred_test )"
      ],
      "metadata": {
        "colab": {
          "base_uri": "https://localhost:8080/",
          "height": 695
        },
        "id": "bUKx74Zplm4L",
        "outputId": "eb6941b9-3222-4882-82cf-cf6aecd642ce"
      },
      "execution_count": null,
      "outputs": [
        {
          "output_type": "stream",
          "name": "stdout",
          "text": [
            "accuricy :  78.26086956521739 %  \n",
            "\n",
            "\n",
            "precision :  84.61538461538461 %  \n",
            "\n",
            "\n",
            "recall :  78.57142857142857 %  \n",
            "\n",
            "\n",
            "F-measure :  81.48148148148148 %  \n",
            "\n",
            "\n"
          ]
        },
        {
          "output_type": "display_data",
          "data": {
            "image/png": "[encoded data removed]",
            "text/plain": [
              "<Figure size 720x576 with 2 Axes>"
            ]
          },
          "metadata": {
            "needs_background": "light"
          }
        }
      ]
    },
    {
      "cell_type": "code",
      "source": [
        ""
      ],
      "metadata": {
        "id": "818XZibvlpcf"
      },
      "execution_count": null,
      "outputs": []
    }
  ]
}